{
  "cells": [
    {
      "cell_type": "code",
      "execution_count": null,
      "metadata": {
        "colab": {
          "base_uri": "https://localhost:8080/"
        },
        "id": "EbrWiZ7hQ7Ce",
        "outputId": "58950e2a-0da3-4686-f838-b0014c82f942"
      },
      "outputs": [
        {
          "output_type": "stream",
          "name": "stdout",
          "text": [
            "GPU: Tesla T4\n"
          ]
        }
      ],
      "source": [
        "import torch\n",
        "\n",
        "# Check if GPU is available\n",
        "if torch.cuda.is_available():\n",
        "    # Get the name of the GPU\n",
        "    gpu_name = torch.cuda.get_device_name(0)\n",
        "    print(f\"GPU: {gpu_name}\")\n",
        "else:\n",
        "    print(\"CPU is being used.\")"
      ]
    },
    {
      "cell_type": "code",
      "execution_count": null,
      "metadata": {
        "colab": {
          "base_uri": "https://localhost:8080/"
        },
        "id": "Yb6AQhRXETkP",
        "outputId": "1fcccb16-da4a-479a-f9af-be9c18242073"
      },
      "outputs": [
        {
          "output_type": "stream",
          "name": "stdout",
          "text": [
            "Mounted at /content/drive\n"
          ]
        }
      ],
      "source": [
        "from google.colab import drive\n",
        "drive.mount('/content/drive')\n",
        "import os\n",
        "os.chdir('/content/drive/MyDrive/AIproject/adversarial_prompting-master')\n"
      ]
    },
    {
      "cell_type": "code",
      "execution_count": null,
      "metadata": {
        "colab": {
          "base_uri": "https://localhost:8080/"
        },
        "id": "J2tXg_icFC0i",
        "outputId": "f100cb6a-bdb9-4dba-ff85-5ab9edd722d6"
      },
      "outputs": [
        {
          "output_type": "stream",
          "name": "stdout",
          "text": [
            "data  docker  README.md  scripts  Untitled1.ipynb  Untitled.ipynb  utils  wandb\n"
          ]
        }
      ],
      "source": [
        "!ls"
      ]
    },
    {
      "cell_type": "code",
      "execution_count": null,
      "metadata": {
        "colab": {
          "base_uri": "https://localhost:8080/"
        },
        "id": "A_6AGo2VFXXg",
        "outputId": "36e470b0-c209-4f28-a26a-41e81fda929b"
      },
      "outputs": [
        {
          "output_type": "stream",
          "name": "stdout",
          "text": [
            "Requirement already satisfied: transformers in /usr/local/lib/python3.10/dist-packages (4.35.2)\n",
            "Requirement already satisfied: torch in /usr/local/lib/python3.10/dist-packages (2.1.0+cu121)\n",
            "Requirement already satisfied: nltk in /usr/local/lib/python3.10/dist-packages (3.8.1)\n",
            "Requirement already satisfied: pandas in /usr/local/lib/python3.10/dist-packages (1.5.3)\n",
            "Collecting wandb\n",
            "  Downloading wandb-0.16.1-py3-none-any.whl (2.1 MB)\n",
            "\u001b[2K     \u001b[90m━━━━━━━━━━━━━━━━━━━━━━━━━━━━━━━━━━━━━━━━\u001b[0m \u001b[32m2.1/2.1 MB\u001b[0m \u001b[31m13.7 MB/s\u001b[0m eta \u001b[36m0:00:00\u001b[0m\n",
            "\u001b[?25hCollecting gpytorch\n",
            "  Downloading gpytorch-1.11-py3-none-any.whl (266 kB)\n",
            "\u001b[2K     \u001b[90m━━━━━━━━━━━━━━━━━━━━━━━━━━━━━━━━━━━━━━━━\u001b[0m \u001b[32m266.1/266.1 kB\u001b[0m \u001b[31m17.5 MB/s\u001b[0m eta \u001b[36m0:00:00\u001b[0m\n",
            "\u001b[?25hCollecting botorch\n",
            "  Downloading botorch-0.9.5-py3-none-any.whl (596 kB)\n",
            "\u001b[2K     \u001b[90m━━━━━━━━━━━━━━━━━━━━━━━━━━━━━━━━━━━━━━━━\u001b[0m \u001b[32m596.4/596.4 kB\u001b[0m \u001b[31m23.3 MB/s\u001b[0m eta \u001b[36m0:00:00\u001b[0m\n",
            "\u001b[?25hCollecting diffusers\n",
            "  Downloading diffusers-0.24.0-py3-none-any.whl (1.8 MB)\n",
            "\u001b[2K     \u001b[90m━━━━━━━━━━━━━━━━━━━━━━━━━━━━━━━━━━━━━━━━\u001b[0m \u001b[32m1.8/1.8 MB\u001b[0m \u001b[31m31.7 MB/s\u001b[0m eta \u001b[36m0:00:00\u001b[0m\n",
            "\u001b[?25hRequirement already satisfied: torchvision in /usr/local/lib/python3.10/dist-packages (0.16.0+cu121)\n",
            "Requirement already satisfied: filelock in /usr/local/lib/python3.10/dist-packages (from transformers) (3.13.1)\n",
            "Requirement already satisfied: huggingface-hub<1.0,>=0.16.4 in /usr/local/lib/python3.10/dist-packages (from transformers) (0.19.4)\n",
            "Requirement already satisfied: numpy>=1.17 in /usr/local/lib/python3.10/dist-packages (from transformers) (1.23.5)\n",
            "Requirement already satisfied: packaging>=20.0 in /usr/local/lib/python3.10/dist-packages (from transformers) (23.2)\n",
            "Requirement already satisfied: pyyaml>=5.1 in /usr/local/lib/python3.10/dist-packages (from transformers) (6.0.1)\n",
            "Requirement already satisfied: regex!=2019.12.17 in /usr/local/lib/python3.10/dist-packages (from transformers) (2023.6.3)\n",
            "Requirement already satisfied: requests in /usr/local/lib/python3.10/dist-packages (from transformers) (2.31.0)\n",
            "Requirement already satisfied: tokenizers<0.19,>=0.14 in /usr/local/lib/python3.10/dist-packages (from transformers) (0.15.0)\n",
            "Requirement already satisfied: safetensors>=0.3.1 in /usr/local/lib/python3.10/dist-packages (from transformers) (0.4.1)\n",
            "Requirement already satisfied: tqdm>=4.27 in /usr/local/lib/python3.10/dist-packages (from transformers) (4.66.1)\n",
            "Requirement already satisfied: typing-extensions in /usr/local/lib/python3.10/dist-packages (from torch) (4.5.0)\n",
            "Requirement already satisfied: sympy in /usr/local/lib/python3.10/dist-packages (from torch) (1.12)\n",
            "Requirement already satisfied: networkx in /usr/local/lib/python3.10/dist-packages (from torch) (3.2.1)\n",
            "Requirement already satisfied: jinja2 in /usr/local/lib/python3.10/dist-packages (from torch) (3.1.2)\n",
            "Requirement already satisfied: fsspec in /usr/local/lib/python3.10/dist-packages (from torch) (2023.6.0)\n",
            "Requirement already satisfied: triton==2.1.0 in /usr/local/lib/python3.10/dist-packages (from torch) (2.1.0)\n",
            "Requirement already satisfied: click in /usr/local/lib/python3.10/dist-packages (from nltk) (8.1.7)\n",
            "Requirement already satisfied: joblib in /usr/local/lib/python3.10/dist-packages (from nltk) (1.3.2)\n",
            "Requirement already satisfied: python-dateutil>=2.8.1 in /usr/local/lib/python3.10/dist-packages (from pandas) (2.8.2)\n",
            "Requirement already satisfied: pytz>=2020.1 in /usr/local/lib/python3.10/dist-packages (from pandas) (2023.3.post1)\n",
            "Collecting GitPython!=3.1.29,>=1.0.0 (from wandb)\n",
            "  Downloading GitPython-3.1.40-py3-none-any.whl (190 kB)\n",
            "\u001b[2K     \u001b[90m━━━━━━━━━━━━━━━━━━━━━━━━━━━━━━━━━━━━━━━━\u001b[0m \u001b[32m190.6/190.6 kB\u001b[0m \u001b[31m26.4 MB/s\u001b[0m eta \u001b[36m0:00:00\u001b[0m\n",
            "\u001b[?25hRequirement already satisfied: psutil>=5.0.0 in /usr/local/lib/python3.10/dist-packages (from wandb) (5.9.5)\n",
            "Collecting sentry-sdk>=1.0.0 (from wandb)\n",
            "  Downloading sentry_sdk-1.39.1-py2.py3-none-any.whl (254 kB)\n",
            "\u001b[2K     \u001b[90m━━━━━━━━━━━━━━━━━━━━━━━━━━━━━━━━━━━━━━━━\u001b[0m \u001b[32m254.1/254.1 kB\u001b[0m \u001b[31m28.6 MB/s\u001b[0m eta \u001b[36m0:00:00\u001b[0m\n",
            "\u001b[?25hCollecting docker-pycreds>=0.4.0 (from wandb)\n",
            "  Downloading docker_pycreds-0.4.0-py2.py3-none-any.whl (9.0 kB)\n",
            "Collecting setproctitle (from wandb)\n",
            "  Downloading setproctitle-1.3.3-cp310-cp310-manylinux_2_5_x86_64.manylinux1_x86_64.manylinux_2_17_x86_64.manylinux2014_x86_64.whl (30 kB)\n",
            "Requirement already satisfied: setuptools in /usr/local/lib/python3.10/dist-packages (from wandb) (67.7.2)\n",
            "Requirement already satisfied: appdirs>=1.4.3 in /usr/local/lib/python3.10/dist-packages (from wandb) (1.4.4)\n",
            "Requirement already satisfied: protobuf!=4.21.0,<5,>=3.19.0 in /usr/local/lib/python3.10/dist-packages (from wandb) (3.20.3)\n",
            "Requirement already satisfied: scikit-learn in /usr/local/lib/python3.10/dist-packages (from gpytorch) (1.2.2)\n",
            "Collecting linear-operator>=0.5.0 (from gpytorch)\n",
            "  Downloading linear_operator-0.5.2-py3-none-any.whl (175 kB)\n",
            "\u001b[2K     \u001b[90m━━━━━━━━━━━━━━━━━━━━━━━━━━━━━━━━━━━━━━━━\u001b[0m \u001b[32m175.6/175.6 kB\u001b[0m \u001b[31m22.1 MB/s\u001b[0m eta \u001b[36m0:00:00\u001b[0m\n",
            "\u001b[?25hRequirement already satisfied: multipledispatch in /usr/local/lib/python3.10/dist-packages (from botorch) (1.0.0)\n",
            "Requirement already satisfied: scipy in /usr/local/lib/python3.10/dist-packages (from botorch) (1.11.4)\n",
            "Collecting pyro-ppl>=1.8.4 (from botorch)\n",
            "  Downloading pyro_ppl-1.8.6-py3-none-any.whl (732 kB)\n",
            "\u001b[2K     \u001b[90m━━━━━━━━━━━━━━━━━━━━━━━━━━━━━━━━━━━━━━━━\u001b[0m \u001b[32m732.8/732.8 kB\u001b[0m \u001b[31m34.8 MB/s\u001b[0m eta \u001b[36m0:00:00\u001b[0m\n",
            "\u001b[?25hCollecting linear-operator>=0.5.0 (from gpytorch)\n",
            "  Downloading linear_operator-0.5.1-py3-none-any.whl (174 kB)\n",
            "\u001b[2K     \u001b[90m━━━━━━━━━━━━━━━━━━━━━━━━━━━━━━━━━━━━━━━━\u001b[0m \u001b[32m174.5/174.5 kB\u001b[0m \u001b[31m22.7 MB/s\u001b[0m eta \u001b[36m0:00:00\u001b[0m\n",
            "\u001b[?25hCollecting jaxtyping>=0.2.9 (from linear-operator>=0.5.0->gpytorch)\n",
            "  Downloading jaxtyping-0.2.24-py3-none-any.whl (38 kB)\n",
            "Collecting typeguard~=2.13.3 (from linear-operator>=0.5.0->gpytorch)\n",
            "  Downloading typeguard-2.13.3-py3-none-any.whl (17 kB)\n",
            "Requirement already satisfied: Pillow in /usr/local/lib/python3.10/dist-packages (from diffusers) (9.4.0)\n",
            "Requirement already satisfied: importlib-metadata in /usr/local/lib/python3.10/dist-packages (from diffusers) (7.0.0)\n",
            "Requirement already satisfied: six>=1.4.0 in /usr/local/lib/python3.10/dist-packages (from docker-pycreds>=0.4.0->wandb) (1.16.0)\n",
            "Collecting gitdb<5,>=4.0.1 (from GitPython!=3.1.29,>=1.0.0->wandb)\n",
            "  Downloading gitdb-4.0.11-py3-none-any.whl (62 kB)\n",
            "\u001b[2K     \u001b[90m━━━━━━━━━━━━━━━━━━━━━━━━━━━━━━━━━━━━━━━━\u001b[0m \u001b[32m62.7/62.7 kB\u001b[0m \u001b[31m9.5 MB/s\u001b[0m eta \u001b[36m0:00:00\u001b[0m\n",
            "\u001b[?25hRequirement already satisfied: opt-einsum>=2.3.2 in /usr/local/lib/python3.10/dist-packages (from pyro-ppl>=1.8.4->botorch) (3.3.0)\n",
            "Collecting pyro-api>=0.1.1 (from pyro-ppl>=1.8.4->botorch)\n",
            "  Downloading pyro_api-0.1.2-py3-none-any.whl (11 kB)\n",
            "Requirement already satisfied: charset-normalizer<4,>=2 in /usr/local/lib/python3.10/dist-packages (from requests->transformers) (3.3.2)\n",
            "Requirement already satisfied: idna<4,>=2.5 in /usr/local/lib/python3.10/dist-packages (from requests->transformers) (3.6)\n",
            "Requirement already satisfied: urllib3<3,>=1.21.1 in /usr/local/lib/python3.10/dist-packages (from requests->transformers) (2.0.7)\n",
            "Requirement already satisfied: certifi>=2017.4.17 in /usr/local/lib/python3.10/dist-packages (from requests->transformers) (2023.11.17)\n",
            "Requirement already satisfied: zipp>=0.5 in /usr/local/lib/python3.10/dist-packages (from importlib-metadata->diffusers) (3.17.0)\n",
            "Requirement already satisfied: MarkupSafe>=2.0 in /usr/local/lib/python3.10/dist-packages (from jinja2->torch) (2.1.3)\n",
            "Requirement already satisfied: threadpoolctl>=2.0.0 in /usr/local/lib/python3.10/dist-packages (from scikit-learn->gpytorch) (3.2.0)\n",
            "Requirement already satisfied: mpmath>=0.19 in /usr/local/lib/python3.10/dist-packages (from sympy->torch) (1.3.0)\n",
            "Collecting smmap<6,>=3.0.1 (from gitdb<5,>=4.0.1->GitPython!=3.1.29,>=1.0.0->wandb)\n",
            "  Downloading smmap-5.0.1-py3-none-any.whl (24 kB)\n",
            "Installing collected packages: pyro-api, typeguard, smmap, setproctitle, sentry-sdk, docker-pycreds, jaxtyping, gitdb, pyro-ppl, linear-operator, GitPython, diffusers, wandb, gpytorch, botorch\n",
            "Successfully installed GitPython-3.1.40 botorch-0.9.5 diffusers-0.24.0 docker-pycreds-0.4.0 gitdb-4.0.11 gpytorch-1.11 jaxtyping-0.2.24 linear-operator-0.5.1 pyro-api-0.1.2 pyro-ppl-1.8.6 sentry-sdk-1.39.1 setproctitle-1.3.3 smmap-5.0.1 typeguard-2.13.3 wandb-0.16.1\n"
          ]
        }
      ],
      "source": [
        "!pip install transformers torch nltk pandas wandb gpytorch botorch diffusers torchvision"
      ]
    },
    {
      "cell_type": "code",
      "execution_count": null,
      "metadata": {
        "colab": {
          "base_uri": "https://localhost:8080/"
        },
        "id": "HBjM32gIFlhY",
        "outputId": "682057c4-f69e-4719-e7b8-a6fd7dd92a9a"
      },
      "outputs": [
        {
          "output_type": "stream",
          "name": "stdout",
          "text": [
            "Current working directory: /content/drive/MyDrive/AIproject/adversarial_prompting-master/scripts\n"
          ]
        }
      ],
      "source": [
        "import os\n",
        "import pathlib\n",
        "os.chdir(\"/content/drive/MyDrive/AIproject/adversarial_prompting-master/scripts\")\n",
        "print(f\"Current working directory: {os.getcwd()}\")"
      ]
    },
    {
      "cell_type": "code",
      "execution_count": null,
      "metadata": {
        "colab": {
          "base_uri": "https://localhost:8080/"
        },
        "id": "XFrHtW8fG5hR",
        "outputId": "759f9097-84a3-48ca-ca2d-ec4e43fcc759"
      },
      "outputs": [
        {
          "output_type": "stream",
          "name": "stdout",
          "text": [
            "W&B disabled.\n"
          ]
        }
      ],
      "source": [
        "!wandb disabled"
      ]
    },
    {
      "cell_type": "code",
      "execution_count": null,
      "metadata": {
        "id": "xourMZN81i3f"
      },
      "outputs": [],
      "source": []
    },
    {
      "cell_type": "code",
      "execution_count": null,
      "metadata": {
        "id": "eYFnwH8R6w3w"
      },
      "outputs": [],
      "source": [
        "#subprocess.run(['python3', 'run_text_exp.py', '--loss_type', 'perplexity', '--seed', '0',\n",
        "#                '--language_model', 'facebook/opt-350m', '--embedding_model', 'tinybert',\n",
        "#                '--seed_text', 'Explain list comprehension in Python.'])"
      ]
    },
    {
      "cell_type": "code",
      "execution_count": null,
      "metadata": {
        "colab": {
          "base_uri": "https://localhost:8080/"
        },
        "id": "LiGYRmXnF8Oo",
        "outputId": "7cc30e38-affd-4280-b3e9-c5381c70763d"
      },
      "outputs": [
        {
          "output_type": "stream",
          "name": "stdout",
          "text": [
            "2023-12-15 14:23:34.545075: E external/local_xla/xla/stream_executor/cuda/cuda_dnn.cc:9261] Unable to register cuDNN factory: Attempting to register factory for plugin cuDNN when one has already been registered\n",
            "2023-12-15 14:23:34.545127: E external/local_xla/xla/stream_executor/cuda/cuda_fft.cc:607] Unable to register cuFFT factory: Attempting to register factory for plugin cuFFT when one has already been registered\n",
            "2023-12-15 14:23:34.547008: E external/local_xla/xla/stream_executor/cuda/cuda_blas.cc:1515] Unable to register cuBLAS factory: Attempting to register factory for plugin cuBLAS when one has already been registered\n",
            "2023-12-15 14:23:36.334584: W tensorflow/compiler/tf2tensorrt/utils/py_utils.cc:38] TF-TRT Warning: Could not find TensorRT\n",
            "config.json: 100% 651/651 [00:00<00:00, 3.92MB/s]\n",
            "pytorch_model.bin: 100% 251M/251M [00:01<00:00, 183MB/s]\n",
            "generation_config.json: 100% 137/137 [00:00<00:00, 877kB/s]\n",
            "tokenizer_config.json: 100% 685/685 [00:00<00:00, 4.29MB/s]\n",
            "vocab.json: 100% 899k/899k [00:00<00:00, 6.91MB/s]\n",
            "merges.txt: 100% 456k/456k [00:00<00:00, 3.47MB/s]\n",
            "special_tokens_map.json: 100% 441/441 [00:00<00:00, 2.89MB/s]\n",
            "vocab.txt: 100% 232k/232k [00:00<00:00, 3.52MB/s]\n",
            "config.json: 100% 382/382 [00:00<00:00, 2.52MB/s]\n",
            "model.safetensors: 100% 17.7M/17.7M [00:00<00:00, 269MB/s]\n",
            "vocab.json: 100% 1.04M/1.04M [00:00<00:00, 5.23MB/s]\n",
            "merges.txt: 100% 456k/456k [00:00<00:00, 3.47MB/s]\n",
            "tokenizer.json: 100% 1.36M/1.36M [00:00<00:00, 17.3MB/s]\n",
            "config.json: 100% 665/665 [00:00<00:00, 3.30MB/s]\n",
            "model.safetensors: 100% 548M/548M [00:02<00:00, 208MB/s]\n",
            "generation_config.json: 100% 124/124 [00:00<00:00, 783kB/s]\n",
            "running dummy-50w3if0y\n",
            "Computing Scores for Initialization Data\n",
            "/usr/local/lib/python3.10/dist-packages/transformers/pipelines/base.py:1101: UserWarning: You seem to be using the pipelines sequentially on GPU. In order to maximize efficiency please use a dataset\n",
            "  warnings.warn(\n",
            "Initializing Surrogate Model\n",
            "Pretraining Surrogate Model on Initial Data\n",
            "Starting Main Optimization Loop\n",
            "  0% 0/5000 [00:00<?, ?it/s]BEST PROMPT: hole 32 about double\n",
            "BEST LOSS: 10.71\n",
            "BEST GEN TEXT:\n",
            "1/10:  It’s more efficient than just saying, “What happens when we list?” with Python because we’re sure it won’t take long to find the language and then we’ll all go through the language’s properties and just start writing the name and number of the string that we’ve created.\n",
            "\n",
            "In summary, we’ve identified many of the problems our list provides, but we’re going to keep going because you can easily see in the text below that it’s very likely that more of the problems\n",
            "2/10:  Go read this list.\n",
            "\n",
            "One word that describes how to resolve multiple holes: the _name._\n",
            "\n",
            "In the above example, Python will do that for only that one problem.\n",
            "\n",
            "But now we can find a better way to solve both. For example, let’s look at creating a library to resolve two holes: the name_of_the_puffer_hole and the name of the hole_to_puffer_hole that we’re trying to resolve. That’s the first thing we need to do.\n",
            "\n",
            "Here’s\n",
            "3/10:  For example:\n",
            "\n",
            "[1]\n",
            "\n",
            "[2]\n",
            "\n",
            "[3]\n",
            "\n",
            "[4]\n",
            "\n",
            "[5]\n",
            "\n",
            "[6]\n",
            "\n",
            "[7]\n",
            "\n",
            "[8]\n",
            "\n",
            "[9]\n",
            "\n",
            "[10]\n",
            "\n",
            "[11]\n",
            "\n",
            "(Let’s assume all the problems are solved in this list of ideas.)\n",
            "\n",
            "[10]\n",
            "\n",
            "[11]\n",
            "\n",
            "[12]\n",
            "\n",
            "[13]\n",
            "\n",
            "[14]\n",
            "\n",
            "(Let’s assume that we will have solved all the problems solved,\n",
            "4/10:  In this post I’ll look at two examples from the above:\n",
            "\n",
            "What do you do when you’re unable to find “puzzle” in your “chars?” list? Well, that’s the answer to it. So we can use the Python list as our example. I’ll call it a “chars” list. It can include both “puzzle” and “puzzle” items, and we can use it as a “chars” for that category. We\n",
            "5/10:  Each and every piece we’re working on will give our users the ability to find a problem of interest that doesn’t have much in common with them.\n",
            "\n",
            "And by the way, we don’t need to tell you that the problem on the screen you’re looking at isn’t what you’re looking at, it’s what the user is looking at. That’s fine. It’s just that those people will be able to better understand their problem, and not a lot of people will even think to look at\n",
            "6/10: \n",
            "\n",
            "You see, every instance of a programming language where a particular character, or object within it, needs to be evaluated by an evaluator. That’s called some sort of evaluation that is used by any other evaluator. This evaluator is called the evaluator evaluer.\n",
            "\n",
            "For example, in Python we’ll see a function a(a), which defines an expression (1) which can be used to indicate the value of the data. The expression is used as a value in the evaluation and can be interpreted as in the figure below.\n",
            "7/10:  In this approach, we’ve identified several of the possible problems in a list of problems without problems.\n",
            "\n",
            "First, what is the definition of the problem?\n",
            "\n",
            "There have been a number of interesting arguments being made that people don’t really know how to write Python, and there could still be a few more arguments. Obviously, those arguments shouldn’t be confused because they are not. In fact we’ve already identified several more common arguments that people don’t understand at all, some of which may be good examples, but others may be just plain\n",
            "8/10:  In the list below, we write with ‘<’‘ ‘<!’‘‘‘‘‘…’\n",
            "\n",
            "[In the List below, we write with ‘<’‘ ‘‘‘‘‘‘‘‘‘‘‘‘‘‘‘‘‘‘‘‘‘‘‘‘‘‘‘‘‘‘‘‘‘‘\n",
            "9/10:  Here is a list of ways we explain our lists in Python.\n",
            "\n",
            "[1]:\n",
            "\n",
            "# We show the list of problems we’ve identified for each word. This way, we can’t get as into the problem problem first as we want. If we look through a list of problems, the first thing we do is to look how we’ve built that list. We can imagine a problem we solved with that type of word, and describe it from that in a list of ways (and using parentheses). The problem we solved with that type of word is that\n",
            "10/10:  That’s going to be fun, so just stick with the suggestions and try to write it as smoothly and comprehensively as you can.\n",
            "\n",
            "Now when it comes to Listening to Coding Language, we’re very interested in the structure, and of course there is the language, too! There’s the library, C#, C++ or C++L, or whatever. Then there are C, C++A, and C++L. Then there are C#, C++, or C#S.\n",
            "\n",
            "It’s not really about\n",
            "\n",
            "\n",
            "\n",
            "  7% 330/5000 [00:50<16:03,  4.85it/s]BEST PROMPT: stock blooded jun script\n",
            "BEST LOSS: 10.83\n",
            "BEST GEN TEXT:\n",
            "1/10:  This is because of the fact that we have many more examples of language-specific learning problems, for example with programming, that we haven’t addressed previously.\n",
            "\n",
            "Before we start, let’s first look at the list of words in the list. Then, by the way, you shouldn’t need to do anything to understand the phrase!\n",
            "\n",
            "Python 3.9\n",
            "\n",
            "We’ll take a stab at Python 3.9 this time because it’s not very clear what it’s actually all about except for the Python 3 implementation.\n",
            "2/10:  In this case, let’s see how Python demonstrates the power of understanding language.\n",
            "\n",
            "Suppose we don’t want to go back to basics on this, but the problem isn’t simple. Let’s check out the list of problems we’ve identified:\n",
            "\n",
            "Let’s see how the examples in this list relate to each other’s problems. Each problem in the list of problems describes another problem. Let’s define what makes particular problems problematic.\n",
            "\n",
            "Let’s see how a problem is associated with a\n",
            "3/10:  It’s all in one convenient place.\n",
            "\n",
            "Let’s turn to what might seem a very easy task:\n",
            "\n",
            "Create a list of problems that we’ll be evaluating in the list of ways we Explain list comprehension. Let’s say that we want to start by examining the example we’ve created.\n",
            "\n",
            "For Python, we want to identify the problem that we’ll be teaching Python about.\n",
            "\n",
            "Let’s first identify the problem that We’re doing. We’ll list the problem in just a few\n",
            "4/10: \n",
            "\n",
            "(1) Using an open source version of Python\n",
            "[2] Using a Python script[3] Add ‘cafe‘ or ‘cup‘ to ‘Cafe‘[4] Add ‘Caffe‘ to ‘Coffee‘[5] Add ‘Caramel‘[6] Create ‘Cafe‘[7] Include ‘Eve‘[8] Include ‘Marijuana‘[9] Include ‘Drink‘[10] Add ‘L\n",
            "5/10:  It will help you see what’s been occurring between lines of code. I encourage you not to start with one problem after the other as there is so much more to the problems that it’s just not worth it.\n",
            "\n",
            "That’s why I’m suggesting Python be a little more interactive – you can get a sense of what’s going on and how to fix it. I am really excited about this initiative, and I also hope it will grow into something really interesting. In my opinion, it is a perfect fit for Python, and it�\n",
            "6/10: \n",
            "\n",
            "If we didn’t have a list, we’d still have a list because we’re just not sure which ones to list. That’s a good thing, and one good reason for Python to be free of the C and C++ classes.\n",
            "\n",
            "For both lists, you can turn to the Python version and look at the list you want. Just make sure you copy and paste the section that you wish to go to before you start doing this.\n",
            "\n",
            "Python is pretty simple, though it can have a lot of problems. You’\n",
            "7/10:  And we’ll then review how to fix them or how to resolve them. We’ll also be reviewing how this “understanding” is supposed to affect learning outcomes and teaching. We want you to see what makes sense to do with each problem that can be resolved.\n",
            "\n",
            "And this is where it gets really simple.\n",
            "\n",
            "Let’s say the data we’ve identified in Python is something we want to teach children. This may surprise you, but they’re already very familiar with what language they can use. The best way to tell\n",
            "8/10: \n",
            "\n",
            "In C++: we’ve always understood some types of data as “finally”, and some types as “slowly”. But we don’t always do that, especially in a language like C++ or Python. This is why it’s important to look at the performance of these languages. Python, on the other hand, gives us performance gains in the way we describe them – when we try to improve our speed. When we try and scale up our speed, performance declines. That’s why Python’s\n",
            "9/10: \n",
            "\n",
            "What Can We Explain?\n",
            "\n",
            "When we’re creating a list of the problems you’re referring to, we’ll look at several items, one at a time, including the following:\n",
            "\n",
            "A block chart of a class\n",
            "\n",
            "A list of other classes\n",
            "\n",
            "A list of properties (such as properties.properties and properties.colors)\n",
            "\n",
            "A list of values (properties.colors and properties.colors)\n",
            "\n",
            "Another way to view the same problem is to look at its properties or properties as a single entity but without any\n",
            "10/10: \n",
            "\n",
            "Here are the most common list examples that we’ve linked to:\n",
            "\n",
            "<a href=\"http://labs.com/projects/1/2.html\" target=\"_blank\" title=\"Read a Python Story\" /> <a href=\"http://labs.com/projects/3/4.html\" target=\"_blank\" title=\"See an Example\" /> <a href=\"http://labs.com/projects/5/6.html\" target=\"_blank\" title=\"Read a Python Story\" /> <a href=\"http\n",
            "\n",
            "\n",
            "\n",
            " 47% 2340/5000 [1:56:10<2:12:03,  2.98s/it]\n",
            "\n",
            "real\t124m0.451s\n",
            "user\t122m35.372s\n",
            "sys\t0m11.447s\n"
          ]
        }
      ],
      "source": [
        "!time python3 run_text_exp.py --loss_type perplexity --seed 0 --language_model facebook/opt-125m --embedding_model tinybert --seed_text \"Let’s start by looking through a list of examples we’ve identified. That’s all. We’ll be checking off each and every one of those problems in a list of ways we Explain list comprehension in Python.\""
      ]
    }
  ],
  "metadata": {
    "accelerator": "GPU",
    "colab": {
      "provenance": []
    },
    "kernelspec": {
      "display_name": "Python 3",
      "name": "python3"
    },
    "language_info": {
      "name": "python"
    }
  },
  "nbformat": 4,
  "nbformat_minor": 0
}